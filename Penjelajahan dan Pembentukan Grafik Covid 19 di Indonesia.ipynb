{
 "cells": [
  {
   "cell_type": "markdown",
   "metadata": {},
   "source": [
    "# Eksplorasi Data Covid-19 di Indonesia"
   ]
  },
  {
   "cell_type": "markdown",
   "metadata": {},
   "source": [
    "Dalam proyek ini, kita akan melakukan eksplorasi dan analisis mengenai COVID-19 di Indonesia. Data yang Anda pergunakan diambil langsung dari API (Application Programming Interface) yang tersedia di covid19.go.id. Sehingga dalam proyek ini Anda akan mempelajari teknik mengambil data dari API, teknik mempersiapkan data, serta analisis dan visualisasi data."
   ]
  },
  {
   "cell_type": "markdown",
   "metadata": {},
   "source": [
    "## Mengakses Data API dari situs covid19.go.id"
   ]
  },
  {
   "cell_type": "markdown",
   "metadata": {},
   "source": [
    "Rekapitulasi data COVID-19 Indonesia tersedia dalam API publik yang beralamat di https://data.covid19.go.id/public/api/update.json.\n",
    "Salah satu cara untuk mengakses API adalah dengan menggunakan fungsi get() dari library requests."
   ]
  },
  {
   "cell_type": "code",
   "execution_count": 2,
   "metadata": {},
   "outputs": [
    {
     "name": "stdout",
     "output_type": "stream",
     "text": [
      "<Response [200]>\n"
     ]
    },
    {
     "name": "stderr",
     "output_type": "stream",
     "text": [
      "C:\\Users\\HALAL\\anaconda3\\lib\\site-packages\\urllib3\\connectionpool.py:981: InsecureRequestWarning: Unverified HTTPS request is being made to host 'data.covid19.go.id'. Adding certificate verification is strongly advised. See: https://urllib3.readthedocs.io/en/latest/advanced-usage.html#ssl-warnings\n",
      "  warnings.warn(\n"
     ]
    }
   ],
   "source": [
    "import requests\n",
    "resp = requests.get('https://data.covid19.go.id/public/api/update.json', verify=False)\n",
    "print(resp)"
   ]
  },
  {
   "cell_type": "markdown",
   "metadata": {},
   "source": [
    "# Headers API"
   ]
  },
  {
   "cell_type": "markdown",
   "metadata": {},
   "source": [
    " jalankan attribut headers pada resp untuk mengetahui metadata apa saja yang tersimpan"
   ]
  },
  {
   "cell_type": "code",
   "execution_count": 3,
   "metadata": {},
   "outputs": [
    {
     "name": "stdout",
     "output_type": "stream",
     "text": [
      "{'Server': 'nginx', 'Date': 'Wed, 03 Nov 2021 00:28:56 GMT', 'Content-Type': 'application/json', 'Transfer-Encoding': 'chunked', 'Connection': 'keep-alive', 'Vary': 'Accept-Encoding, Accept-Encoding', 'Last-Modified': 'Wed, 03 Nov 2021 00:27:01 GMT', 'ETag': 'W/\"6181d755-39cba\"', 'X-Content-Type-Options': 'nosniff, nosniff', 'X-XSS-Protection': '1; mode=block, 1; mode=block', 'Strict-Transport-Security': 'max-age=31536000; includeSubDomains; preload', 'Content-Encoding': 'gzip'}\n"
     ]
    }
   ],
   "source": [
    "import requests\n",
    "resp = requests.get('https://data.covid19.go.id/public/api/update.json')\n",
    "print(resp.headers)"
   ]
  },
  {
   "cell_type": "markdown",
   "metadata": {},
   "source": [
    "# Mengekstraksi Isi dari Respon"
   ]
  },
  {
   "cell_type": "markdown",
   "metadata": {},
   "source": [
    "Respon API dengan status code 200 menyatakan bahwa permintaan Anda berhasil dipenuhi dan konten yang diminta tersedia untuk diekstrak. Selain itu Anda juga telah mengetahui lewat attribut headers bahwa konten yang diminta tersedia dalam bentuk application/json, yaitu berkas JSON."
   ]
  },
  {
   "cell_type": "code",
   "execution_count": 4,
   "metadata": {},
   "outputs": [
    {
     "name": "stderr",
     "output_type": "stream",
     "text": [
      "C:\\Users\\HALAL\\anaconda3\\lib\\site-packages\\urllib3\\connectionpool.py:981: InsecureRequestWarning: Unverified HTTPS request is being made to host 'data.covid19.go.id'. Adding certificate verification is strongly advised. See: https://urllib3.readthedocs.io/en/latest/advanced-usage.html#ssl-warnings\n",
      "  warnings.warn(\n"
     ]
    }
   ],
   "source": [
    "import requests\n",
    "resp = requests.get('https://data.covid19.go.id/public/api/update.json', verify=False)\n",
    "\n",
    "cov_id_raw  = resp.json()"
   ]
  },
  {
   "cell_type": "markdown",
   "metadata": {},
   "source": [
    "# Mengekstraksi Isi dari Respon part - 2"
   ]
  },
  {
   "cell_type": "markdown",
   "metadata": {},
   "source": [
    "Dengan menggunakan fungsi len() dan method keys() cobalah amati ada berapa komponen serta apa saja nama komponen dalam obyek cov_id_raw tersebut! Kemudian ekstraklah key ke-2 dan simpan dengan nama cov_id_update."
   ]
  },
  {
   "cell_type": "code",
   "execution_count": 5,
   "metadata": {},
   "outputs": [
    {
     "name": "stderr",
     "output_type": "stream",
     "text": [
      "C:\\Users\\HALAL\\anaconda3\\lib\\site-packages\\urllib3\\connectionpool.py:981: InsecureRequestWarning: Unverified HTTPS request is being made to host 'data.covid19.go.id'. Adding certificate verification is strongly advised. See: https://urllib3.readthedocs.io/en/latest/advanced-usage.html#ssl-warnings\n",
      "  warnings.warn(\n"
     ]
    },
    {
     "name": "stdout",
     "output_type": "stream",
     "text": [
      "Length of cov_id_raw : 2.\n",
      "Komponen cov_id_raw  : dict_keys(['data', 'update']).\n"
     ]
    }
   ],
   "source": [
    "import requests\n",
    "resp = requests.get('https://data.covid19.go.id/public/api/update.json', verify=False)\n",
    "cov_id_raw = resp.json()\n",
    "\n",
    "print('Length of cov_id_raw : %d.' %len(cov_id_raw))\n",
    "print('Komponen cov_id_raw  : %s.' %cov_id_raw.keys())\n",
    "cov_id_update = cov_id_raw['update']"
   ]
  },
  {
   "cell_type": "markdown",
   "metadata": {},
   "source": [
    "# Analisa Data dan Eksplorasi"
   ]
  },
  {
   "cell_type": "markdown",
   "metadata": {},
   "source": [
    "Sekarang Anda diminta untuk fokus pada obyek cov_id_update untuk menjawab pertanyaan-pertanyaan berikut:\n",
    "\n",
    "1. Kapan tanggal pembaharuan data penambahan kasus?\n",
    "2. Berapa jumlah penambahan kasus sembuh?\n",
    "3. Berapa jumlah penambahan kasus meninggal?\n",
    "4. Berapa jumlah total kasus positif hingga saat ini?\n",
    "5. Berapa jumlah total kasus meninggal hingga saat ini?"
   ]
  },
  {
   "cell_type": "code",
   "execution_count": 7,
   "metadata": {},
   "outputs": [
    {
     "name": "stdout",
     "output_type": "stream",
     "text": [
      "Tanggal pembaharuan data penambahan kasus : 2021-11-02\n",
      "Jumlah penambahan kasus sembuh : 868\n",
      "Jumlah penambahan kasus meninggal : 34\n",
      "Jumlah total kasus positif hingga saat ini : 4245373\n",
      "Jumlah total kasus meninggal hingga saat ini: 143457\n"
     ]
    },
    {
     "name": "stderr",
     "output_type": "stream",
     "text": [
      "C:\\Users\\HALAL\\anaconda3\\lib\\site-packages\\urllib3\\connectionpool.py:981: InsecureRequestWarning: Unverified HTTPS request is being made to host 'data.covid19.go.id'. Adding certificate verification is strongly advised. See: https://urllib3.readthedocs.io/en/latest/advanced-usage.html#ssl-warnings\n",
      "  warnings.warn(\n"
     ]
    }
   ],
   "source": [
    "import requests\n",
    "resp = requests.get('https://data.covid19.go.id/public/api/update.json', verify=False)\n",
    "cov_id_raw = resp.json()\n",
    "cov_id_update = cov_id_raw['update']\n",
    "\n",
    "print('Tanggal pembaharuan data penambahan kasus :', cov_id_update['penambahan']['tanggal'])\n",
    "print('Jumlah penambahan kasus sembuh :', cov_id_update['penambahan']['jumlah_sembuh'])\n",
    "print('Jumlah penambahan kasus meninggal :', cov_id_update['penambahan']['jumlah_meninggal'])\n",
    "print('Jumlah total kasus positif hingga saat ini :', cov_id_update['total']['jumlah_positif'])\n",
    "print('Jumlah total kasus meninggal hingga saat ini:', cov_id_update['total']['jumlah_meninggal'])"
   ]
  },
  {
   "cell_type": "markdown",
   "metadata": {},
   "source": [
    "# Menengok Covid di Jawa Barat"
   ]
  },
  {
   "cell_type": "markdown",
   "metadata": {},
   "source": [
    "Namun bagaimana jika Anda ingin berfokus dengan data COVID-19 di provinsi tempat menetap saat ini?\n",
    "\n",
    "covid19.go.id menyediakan data kasus COVID-19 tingkat provinsi di alamat API yang berbeda. Sebagai data mengenai COVID-19 Jawa Barat, tempat tinggal saya sekarang, tersedia di https://data.covid19.go.id/public/api/prov_detail_JAWA_BARAT.json."
   ]
  },
  {
   "cell_type": "code",
   "execution_count": 10,
   "metadata": {},
   "outputs": [
    {
     "name": "stderr",
     "output_type": "stream",
     "text": [
      "C:\\Users\\HALAL\\anaconda3\\lib\\site-packages\\urllib3\\connectionpool.py:981: InsecureRequestWarning: Unverified HTTPS request is being made to host 'data.covid19.go.id'. Adding certificate verification is strongly advised. See: https://urllib3.readthedocs.io/en/latest/advanced-usage.html#ssl-warnings\n",
      "  warnings.warn(\n"
     ]
    }
   ],
   "source": [
    "import requests\n",
    "resp_jabar = requests.get('https://data.covid19.go.id/public/api/prov_detail_JAWA_BARAT.json', verify=False)\n",
    "cov_jabar_raw = resp_jabar.json()"
   ]
  },
  {
   "cell_type": "markdown",
   "metadata": {},
   "source": [
    "# Memahami Kasus COVID-19 di Jawa Barat"
   ]
  },
  {
   "cell_type": "markdown",
   "metadata": {},
   "source": [
    "Sekarang jalankanlah method keys() pada cov_jabar_raw tersebut untuk mengetahui nama-nama elemen utama yang tersedia dan jawablah pertanyaan berikut:\n",
    "\n",
    "1. Berapa jumlah total kasus COVID-19 di Jawa Barat?\n",
    "2. Berapa persentase kematian akibat COVID-19 di Jawa Barat?\n",
    "3. Berapa persentase tingkat kesembuhan dari COVID-19 di Jawa Barat?"
   ]
  },
  {
   "cell_type": "code",
   "execution_count": 11,
   "metadata": {},
   "outputs": [
    {
     "name": "stdout",
     "output_type": "stream",
     "text": [
      "Nama-nama elemen utama:\n",
      " dict_keys(['last_date', 'provinsi', 'kasus_total', 'kasus_tanpa_tgl', 'kasus_dengan_tgl', 'meninggal_persen', 'meninggal_tanpa_tgl', 'meninggal_dengan_tgl', 'sembuh_persen', 'sembuh_tanpa_tgl', 'sembuh_dengan_tgl', 'list_perkembangan', 'data'])\n",
      "\n",
      "Jumlah total kasus COVID-19 di Jawa Barat : 705948\n",
      "Persentase kematian akibat COVID-19 di Jawa Barat : 2.082165.2%\n",
      "Persentase tingkat kesembuhan dari COVID-19 di Jawa Barat : 97.715696.2%\n"
     ]
    },
    {
     "name": "stderr",
     "output_type": "stream",
     "text": [
      "C:\\Users\\HALAL\\anaconda3\\lib\\site-packages\\urllib3\\connectionpool.py:981: InsecureRequestWarning: Unverified HTTPS request is being made to host 'data.covid19.go.id'. Adding certificate verification is strongly advised. See: https://urllib3.readthedocs.io/en/latest/advanced-usage.html#ssl-warnings\n",
      "  warnings.warn(\n"
     ]
    }
   ],
   "source": [
    "import requests\n",
    "resp_jabar = requests.get('https://data.covid19.go.id/public/api/prov_detail_JAWA_BARAT.json', verify=False)\n",
    "cov_jabar_raw = resp_jabar.json()\n",
    "\n",
    "print('Nama-nama elemen utama:\\n', cov_jabar_raw.keys())\n",
    "print('\\nJumlah total kasus COVID-19 di Jawa Barat : %d' %cov_jabar_raw['kasus_total'])\n",
    "print('Persentase kematian akibat COVID-19 di Jawa Barat : %f.2%%' %cov_jabar_raw['meninggal_persen'])\n",
    "print('Persentase tingkat kesembuhan dari COVID-19 di Jawa Barat : %f.2%%' %cov_jabar_raw['sembuh_persen'])"
   ]
  },
  {
   "cell_type": "markdown",
   "metadata": {},
   "source": [
    "# Memperoleh Informasi yang Lebih Lengkap"
   ]
  },
  {
   "cell_type": "markdown",
   "metadata": {},
   "source": [
    "Informasi umum mengenai COVID-19 di Jawa Barat telah Anda dapatkan. Namun informasi akan lebih lengkap jika Anda memiliki data perkembangan COVID-19 dari waktu ke waktu."
   ]
  },
  {
   "cell_type": "code",
   "execution_count": 12,
   "metadata": {},
   "outputs": [
    {
     "name": "stderr",
     "output_type": "stream",
     "text": [
      "C:\\Users\\HALAL\\anaconda3\\lib\\site-packages\\urllib3\\connectionpool.py:981: InsecureRequestWarning: Unverified HTTPS request is being made to host 'data.covid19.go.id'. Adding certificate verification is strongly advised. See: https://urllib3.readthedocs.io/en/latest/advanced-usage.html#ssl-warnings\n",
      "  warnings.warn(\n"
     ]
    },
    {
     "name": "stdout",
     "output_type": "stream",
     "text": [
      "<class 'pandas.core.frame.DataFrame'>\n",
      "RangeIndex: 610 entries, 0 to 609\n",
      "Data columns (total 9 columns):\n",
      " #   Column                        Non-Null Count  Dtype\n",
      "---  ------                        --------------  -----\n",
      " 0   tanggal                       610 non-null    int64\n",
      " 1   KASUS                         610 non-null    int64\n",
      " 2   MENINGGAL                     610 non-null    int64\n",
      " 3   SEMBUH                        610 non-null    int64\n",
      " 4   DIRAWAT_OR_ISOLASI            610 non-null    int64\n",
      " 5   AKUMULASI_KASUS               610 non-null    int64\n",
      " 6   AKUMULASI_SEMBUH              610 non-null    int64\n",
      " 7   AKUMULASI_MENINGGAL           610 non-null    int64\n",
      " 8   AKUMULASI_DIRAWAT_OR_ISOLASI  610 non-null    int64\n",
      "dtypes: int64(9)\n",
      "memory usage: 43.0 KB\n",
      "Info cov_jabar:\n",
      " None\n",
      "\n",
      "Lima data teratas cov_jabar:\n",
      "          tanggal  KASUS  MENINGGAL  SEMBUH  DIRAWAT_OR_ISOLASI  \\\n",
      "0  1583193600000      1          1       0                   0   \n",
      "1  1583280000000      1          0       0                   1   \n",
      "2  1583366400000      1          0       0                   1   \n",
      "3  1583452800000      1          0       0                   1   \n",
      "4  1583539200000      0          0       0                   0   \n",
      "\n",
      "   AKUMULASI_KASUS  AKUMULASI_SEMBUH  AKUMULASI_MENINGGAL  \\\n",
      "0                1                 0                    1   \n",
      "1                2                 0                    1   \n",
      "2                3                 0                    1   \n",
      "3                4                 0                    1   \n",
      "4                4                 0                    1   \n",
      "\n",
      "   AKUMULASI_DIRAWAT_OR_ISOLASI  \n",
      "0                             0  \n",
      "1                             1  \n",
      "2                             2  \n",
      "3                             3  \n",
      "4                             3  \n"
     ]
    }
   ],
   "source": [
    "import numpy as np\n",
    "import pandas as pd\n",
    "import requests\n",
    "resp_jabar = requests.get('https://data.covid19.go.id/public/api/prov_detail_JAWA_BARAT.json', verify=False)\n",
    "cov_jabar_raw = resp_jabar.json()\n",
    "\n",
    "cov_jabar = pd.DataFrame(cov_jabar_raw['list_perkembangan'])\n",
    "print('Info cov_jabar:\\n', cov_jabar.info())\n",
    "print('\\nLima data teratas cov_jabar:\\n', cov_jabar.head())"
   ]
  },
  {
   "cell_type": "markdown",
   "metadata": {},
   "source": [
    "# Menghimpun data dan Merapihkan data"
   ]
  },
  {
   "cell_type": "markdown",
   "metadata": {},
   "source": [
    "Setelah mengekstrak dan mengamati cov_jabar, Anda menemukan beberapa kejanggalan pada data tersebut. Diantaranya adalah kejanggalan data pada kolom tanggal dan format penulisan kolom yang tidak konsisten. Sekarang Anda akan mencoba melakukan beberapa tahapan untuk menjinakan data tersebut sehingga dapat diolah dan dianalisis dengan lebih mudah.\n",
    "\n",
    "Ada beberapa tahapan yang akan Anda lakukan untuk menjinakan data cov_jabar, yaitu:\n",
    "\n",
    "1. Menghapus kolom DIRAWAT_OR_ISOLASI dan semua kolom yang berisi nilai kumulatif\n",
    "2. Merubah format penulisan semua kolom menjadi huruf kecil\n",
    "3. Mengganti nama kolom kasus menjadi kasus_baru\n",
    "4. Memperbaiki tipe data pada kolom tanggal menggunakan pd.to_datetime"
   ]
  },
  {
   "cell_type": "code",
   "execution_count": 13,
   "metadata": {},
   "outputs": [
    {
     "name": "stdout",
     "output_type": "stream",
     "text": [
      "Lima data teratas:\n",
      "      tanggal  kasus_baru  meninggal  sembuh\n",
      "0 2020-03-03           1          1       0\n",
      "1 2020-03-04           1          0       0\n",
      "2 2020-03-05           1          0       0\n",
      "3 2020-03-06           1          0       0\n",
      "4 2020-03-07           0          0       0\n"
     ]
    },
    {
     "name": "stderr",
     "output_type": "stream",
     "text": [
      "C:\\Users\\HALAL\\anaconda3\\lib\\site-packages\\urllib3\\connectionpool.py:981: InsecureRequestWarning: Unverified HTTPS request is being made to host 'data.covid19.go.id'. Adding certificate verification is strongly advised. See: https://urllib3.readthedocs.io/en/latest/advanced-usage.html#ssl-warnings\n",
      "  warnings.warn(\n"
     ]
    }
   ],
   "source": [
    "import numpy as np\n",
    "import pandas as pd\n",
    "import requests\n",
    "resp_jabar = requests.get('https://data.covid19.go.id/public/api/prov_detail_JAWA_BARAT.json', verify=False)\n",
    "cov_jabar_raw = resp_jabar.json()\n",
    "cov_jabar = pd.DataFrame(cov_jabar_raw['list_perkembangan'])\n",
    "\n",
    "cov_jabar_tidy = (cov_jabar.drop(columns=[item for item in cov_jabar.columns\n",
    "                                               if item.startswith('AKUMULASI') \n",
    "                                                  or item.startswith('DIRAWAT')])\n",
    "                           .rename(columns=str.lower)\n",
    "                           .rename(columns={'kasus': 'kasus_baru'})\n",
    "                  )\n",
    "cov_jabar_tidy['tanggal'] = pd.to_datetime(cov_jabar_tidy['tanggal']*1e6, unit='ns')\n",
    "print('Lima data teratas:\\n', cov_jabar_tidy.head())"
   ]
  },
  {
   "cell_type": "markdown",
   "metadata": {},
   "source": [
    "# Visualisasi Data Covid - 1"
   ]
  },
  {
   "cell_type": "markdown",
   "metadata": {},
   "source": [
    "Berdasarkan templat tersebut, komponen utama untuk membuat visualisasi antara lain adalah tabel data, kolom data, serta bentuk geometri untuk mempresentasikan data. Sebagai contoh untuk membuat scatter-plot yang diperlukan adalah bentuk geometri titik (.scatter()), line-chart memerlukan geometri garis (.plot()), sedangkan bar-chart memerlukan bentuk geometri batang atau kolom (.bar())."
   ]
  },
  {
   "cell_type": "code",
   "execution_count": 14,
   "metadata": {},
   "outputs": [
    {
     "name": "stderr",
     "output_type": "stream",
     "text": [
      "C:\\Users\\HALAL\\anaconda3\\lib\\site-packages\\urllib3\\connectionpool.py:981: InsecureRequestWarning: Unverified HTTPS request is being made to host 'data.covid19.go.id'. Adding certificate verification is strongly advised. See: https://urllib3.readthedocs.io/en/latest/advanced-usage.html#ssl-warnings\n",
      "  warnings.warn(\n"
     ]
    },
    {
     "data": {
      "text/plain": [
       "<Figure size 432x288 with 0 Axes>"
      ]
     },
     "metadata": {},
     "output_type": "display_data"
    },
    {
     "data": {
      "image/png": "[encoded data removed]",
      "text/plain": [
       "<Figure size 720x360 with 1 Axes>"
      ]
     },
     "metadata": {
      "needs_background": "light"
     },
     "output_type": "display_data"
    }
   ],
   "source": [
    "import numpy as np\n",
    "import pandas as pd\n",
    "import requests\n",
    "resp_jabar = requests.get('https://data.covid19.go.id/public/api/prov_detail_JAWA_BARAT.json', verify=False)\n",
    "cov_jabar_raw = resp_jabar.json()\n",
    "cov_jabar = pd.DataFrame(cov_jabar_raw['list_perkembangan'])\n",
    "\n",
    "cov_jabar_tidy = (cov_jabar.drop(columns=[item for item in cov_jabar.columns \n",
    "                                               if item.startswith('AKUMULASI') \n",
    "                                                  or item.startswith('DIRAWAT')])\n",
    "                           .rename(columns=str.lower)\n",
    "                           .rename(columns={'kasus': 'kasus_baru'})\n",
    "                  )\n",
    "cov_jabar_tidy['tanggal'] = pd.to_datetime(cov_jabar_tidy['tanggal']*1e6, unit='ns')\n",
    "\n",
    "import matplotlib.pyplot as plt\n",
    "\n",
    "plt.clf()\n",
    "fig, ax = plt.subplots(figsize=(10,5))\n",
    "ax.bar(data=cov_jabar_tidy, x='tanggal', height='kasus_baru')\n",
    "plt.show()"
   ]
  },
  {
   "cell_type": "markdown",
   "metadata": {},
   "source": [
    "# Visualisasi Data Covid - 2"
   ]
  },
  {
   "cell_type": "markdown",
   "metadata": {},
   "source": [
    "Memodifikasi Visualisasi data agar lebih menarik"
   ]
  },
  {
   "cell_type": "code",
   "execution_count": 15,
   "metadata": {},
   "outputs": [
    {
     "name": "stderr",
     "output_type": "stream",
     "text": [
      "<ipython-input-15-2ea594a06d16>:30: UserWarning: FixedFormatter should only be used together with FixedLocator\n",
      "  ax.set_xticklabels(ax.get_xticks(), rotation=90)\n"
     ]
    },
    {
     "data": {
      "text/plain": [
       "<Figure size 432x288 with 0 Axes>"
      ]
     },
     "metadata": {},
     "output_type": "display_data"
    },
    {
     "data": {
      "image/png": "[encoded data removed]",
      "text/plain": [
       "<Figure size 720x360 with 1 Axes>"
      ]
     },
     "metadata": {
      "needs_background": "light"
     },
     "output_type": "display_data"
    }
   ],
   "source": [
    "import numpy as np\n",
    "import pandas as pd\n",
    "import requests\n",
    "resp_jabar = requests.get('https://data.covid19.go.id/public/api/prov_detail_JAWA_BARAT.json')\n",
    "cov_jabar_raw = resp_jabar.json()\n",
    "cov_jabar = pd.DataFrame(cov_jabar_raw['list_perkembangan'])\n",
    "\n",
    "cov_jabar_tidy = (cov_jabar.drop(columns=[item for item in cov_jabar.columns \n",
    "                                               if item.startswith('AKUMULASI') \n",
    "                                                  or item.startswith('DIRAWAT')])\n",
    "                           .rename(columns=str.lower)\n",
    "                           .rename(columns={'kasus': 'kasus_baru'})\n",
    "                  )\n",
    "cov_jabar_tidy['tanggal'] = pd.to_datetime(cov_jabar_tidy['tanggal']*1e6, unit='ns')\n",
    "\n",
    "import matplotlib.pyplot as plt\n",
    "import matplotlib.dates as mdates\n",
    "\n",
    "plt.clf()\n",
    "fig, ax = plt.subplots(figsize=(10,5))\n",
    "ax.bar(data=cov_jabar_tidy, x='tanggal', height='kasus_baru', color='salmon')\n",
    "fig.suptitle('Kasus Harian Positif COVID-19 di Jawa Barat', \n",
    "             y=1.00, fontsize=16, fontweight='bold', ha='center')\n",
    "ax.set_title('Terjadi pelonjakan kasus di awal bulan Juli akibat klaster Secapa AD Bandung',\n",
    "             fontsize=10)\n",
    "ax.set_xlabel('')\n",
    "ax.set_ylabel('Jumlah kasus')\n",
    "ax.text(1, -0.3,' Sumber data: covid.19.go.id', color='blue',\n",
    "        ha='right', transform=ax.transAxes)\n",
    "ax.set_xticklabels(ax.get_xticks(), rotation=90)\n",
    "\n",
    "ax.xaxis.set_major_locator(mdates.MonthLocator())\n",
    "ax.xaxis.set_major_formatter(mdates.DateFormatter('%b %Y'))\n",
    "\n",
    "plt.grid(axis='y')\n",
    "plt.tight_layout()\n",
    "plt.show()"
   ]
  },
  {
   "cell_type": "markdown",
   "metadata": {},
   "source": [
    "# Visualisasi Data Covid - 3 Grafik Kasus Sembuh"
   ]
  },
  {
   "cell_type": "markdown",
   "metadata": {},
   "source": [
    "Sekarang buatlah grafik serupa dengan menggunakan data kasus sembuh"
   ]
  },
  {
   "cell_type": "code",
   "execution_count": 17,
   "metadata": {},
   "outputs": [
    {
     "name": "stderr",
     "output_type": "stream",
     "text": [
      "C:\\Users\\HALAL\\anaconda3\\lib\\site-packages\\urllib3\\connectionpool.py:981: InsecureRequestWarning: Unverified HTTPS request is being made to host 'data.covid19.go.id'. Adding certificate verification is strongly advised. See: https://urllib3.readthedocs.io/en/latest/advanced-usage.html#ssl-warnings\n",
      "  warnings.warn(\n",
      "<ipython-input-17-0d96a019e528>:28: UserWarning: FixedFormatter should only be used together with FixedLocator\n",
      "  ax.set_xticklabels(ax.get_xticks(), rotation=90)\n"
     ]
    },
    {
     "data": {
      "text/plain": [
       "<Figure size 432x288 with 0 Axes>"
      ]
     },
     "metadata": {},
     "output_type": "display_data"
    },
    {
     "data": {
      "image/png": "[encoded data removed]",
      "text/plain": [
       "<Figure size 720x360 with 1 Axes>"
      ]
     },
     "metadata": {
      "needs_background": "light"
     },
     "output_type": "display_data"
    }
   ],
   "source": [
    "import numpy as np\n",
    "import pandas as pd\n",
    "import requests\n",
    "resp_jabar = requests.get('https://data.covid19.go.id/public/api/prov_detail_JAWA_BARAT.json', verify=False)\n",
    "cov_jabar_raw = resp_jabar.json()\n",
    "cov_jabar = pd.DataFrame(cov_jabar_raw['list_perkembangan'])\n",
    "\n",
    "cov_jabar_tidy = (cov_jabar.drop(columns=[item for item in cov_jabar.columns \n",
    "                                               if item.startswith('AKUMULASI') \n",
    "                                                  or item.startswith('DIRAWAT')])\n",
    "                           .rename(columns=str.lower)\n",
    "                           .rename(columns={'kasus': 'kasus_baru'})\n",
    "                  )\n",
    "cov_jabar_tidy['tanggal'] = pd.to_datetime(cov_jabar_tidy['tanggal']*1e6, unit='ns')\n",
    "\n",
    "import matplotlib.pyplot as plt\n",
    "import matplotlib.dates as mdates\n",
    "\n",
    "plt.clf()\n",
    "fig, ax = plt.subplots(figsize=(10,5))\n",
    "ax.bar(data=cov_jabar_tidy, x='tanggal', height='sembuh', color='olivedrab')\n",
    "ax.set_title('Kasus Harian Sembuh Dari COVID-19 di Jawa Barat',\n",
    "             fontsize=22)\n",
    "ax.set_xlabel('')\n",
    "ax.set_ylabel('Jumlah kasus')\n",
    "ax.text(1, -0.3, 'Sumber data: covid.19.go.id', color='blue',\n",
    "        ha='right', transform=ax.transAxes)\n",
    "ax.set_xticklabels(ax.get_xticks(), rotation=90)\n",
    "\n",
    "ax.xaxis.set_major_locator(mdates.MonthLocator())\n",
    "ax.xaxis.set_major_formatter(mdates.DateFormatter('%b %Y'))\n",
    "\n",
    "plt.grid(axis='y')\n",
    "plt.tight_layout()\n",
    "plt.show()"
   ]
  },
  {
   "cell_type": "markdown",
   "metadata": {},
   "source": [
    "# Visualisasi Data Covid - 4 Grafik Kasus Meninggal"
   ]
  },
  {
   "cell_type": "markdown",
   "metadata": {},
   "source": [
    "Sekarang buatlah grafik serupa dengan menggunakan data kasus meninggal"
   ]
  },
  {
   "cell_type": "code",
   "execution_count": 18,
   "metadata": {},
   "outputs": [
    {
     "name": "stderr",
     "output_type": "stream",
     "text": [
      "C:\\Users\\HALAL\\anaconda3\\lib\\site-packages\\urllib3\\connectionpool.py:981: InsecureRequestWarning: Unverified HTTPS request is being made to host 'data.covid19.go.id'. Adding certificate verification is strongly advised. See: https://urllib3.readthedocs.io/en/latest/advanced-usage.html#ssl-warnings\n",
      "  warnings.warn(\n",
      "<ipython-input-18-2fd1109cce7f>:28: UserWarning: FixedFormatter should only be used together with FixedLocator\n",
      "  ax.set_xticklabels(ax.get_xticks(), rotation=90)\n"
     ]
    },
    {
     "data": {
      "text/plain": [
       "<Figure size 432x288 with 0 Axes>"
      ]
     },
     "metadata": {},
     "output_type": "display_data"
    },
    {
     "data": {
      "image/png": "[encoded data removed]",
      "text/plain": [
       "<Figure size 720x360 with 1 Axes>"
      ]
     },
     "metadata": {
      "needs_background": "light"
     },
     "output_type": "display_data"
    }
   ],
   "source": [
    "import numpy as np\n",
    "import pandas as pd\n",
    "import requests\n",
    "resp_jabar = requests.get('https://data.covid19.go.id/public/api/prov_detail_JAWA_BARAT.json', verify=False)\n",
    "cov_jabar_raw = resp_jabar.json()\n",
    "cov_jabar = pd.DataFrame(cov_jabar_raw['list_perkembangan'])\n",
    "\n",
    "cov_jabar_tidy = (cov_jabar.drop(columns=[item for item in cov_jabar.columns \n",
    "                                               if item.startswith('AKUMULASI') \n",
    "                                                  or item.startswith('DIRAWAT')])\n",
    "                           .rename(columns=str.lower)\n",
    "                           .rename(columns={'kasus': 'kasus_baru'})\n",
    "                  )\n",
    "cov_jabar_tidy['tanggal'] = pd.to_datetime(cov_jabar_tidy['tanggal']*1e6, unit='ns')\n",
    "\n",
    "import matplotlib.pyplot as plt\n",
    "import matplotlib.dates as mdates\n",
    "\n",
    "plt.clf()\n",
    "fig, ax = plt.subplots(figsize=(10,5))\n",
    "ax.bar(data=cov_jabar_tidy, x='tanggal', height='meninggal', color='slategrey')\n",
    "ax.set_title('Kasus Harian Meninggal Dari COVID-19 di Jawa Barat',\n",
    "             fontsize=22)\n",
    "ax.set_xlabel('')\n",
    "ax.set_ylabel('Jumlah kasus')\n",
    "ax.text(1, -0.3, 'Sumber data: covid.19.go.id', color='blue',\n",
    "        ha='right', transform=ax.transAxes)\n",
    "ax.set_xticklabels(ax.get_xticks(), rotation=90)\n",
    "\n",
    "ax.xaxis.set_major_locator(mdates.MonthLocator())\n",
    "ax.xaxis.set_major_formatter(mdates.DateFormatter('%b %Y'))\n",
    "\n",
    "plt.grid(axis='y')\n",
    "plt.tight_layout()\n",
    "plt.show()"
   ]
  },
  {
   "cell_type": "markdown",
   "metadata": {},
   "source": [
    "# Sekali lagi, Melihat Rentang"
   ]
  },
  {
   "cell_type": "markdown",
   "metadata": {},
   "source": [
    "Setelah mengamati grafik perkembangan kasus Anda menyadari bahwa terjadi fluktuasi pertambahan kasus harian. Dilandasi hal tersebut Anda kemudian ingin mencoba mengamati bagaimana perkembangan kasus dalam rentang waktu pekanan. "
   ]
  },
  {
   "cell_type": "code",
   "execution_count": 19,
   "metadata": {},
   "outputs": [
    {
     "name": "stderr",
     "output_type": "stream",
     "text": [
      "C:\\Users\\HALAL\\anaconda3\\lib\\site-packages\\urllib3\\connectionpool.py:981: InsecureRequestWarning: Unverified HTTPS request is being made to host 'data.covid19.go.id'. Adding certificate verification is strongly advised. See: https://urllib3.readthedocs.io/en/latest/advanced-usage.html#ssl-warnings\n",
      "  warnings.warn(\n"
     ]
    },
    {
     "name": "stdout",
     "output_type": "stream",
     "text": [
      "Info cov_jabar_pekanan:\n",
      "<class 'pandas.core.frame.DataFrame'>\n",
      "RangeIndex: 88 entries, 0 to 87\n",
      "Data columns (total 3 columns):\n",
      " #   Column    Non-Null Count  Dtype\n",
      "---  ------    --------------  -----\n",
      " 0   tahun     88 non-null     int64\n",
      " 1   pekan_ke  88 non-null     int64\n",
      " 2   jumlah    88 non-null     int64\n",
      "dtypes: int64(3)\n",
      "memory usage: 2.2 KB\n",
      "None\n",
      "\n",
      "Lima data teratas cov_jabar_pekanan:\n",
      "    tahun  pekan_ke  jumlah\n",
      "0   2020        10       4\n",
      "1   2020        11       5\n",
      "2   2020        12      44\n",
      "3   2020        13      80\n",
      "4   2020        14      89\n"
     ]
    }
   ],
   "source": [
    "import numpy as np\n",
    "import pandas as pd\n",
    "import requests\n",
    "resp_jabar = requests.get('https://data.covid19.go.id/public/api/prov_detail_JAWA_BARAT.json',verify=False)\n",
    "cov_jabar_raw = resp_jabar.json()\n",
    "cov_jabar = pd.DataFrame(cov_jabar_raw['list_perkembangan'])\n",
    "\n",
    "cov_jabar_tidy = (cov_jabar.drop(columns=[item for item in cov_jabar.columns \n",
    "                                               if item.startswith('AKUMULASI') \n",
    "                                                  or item.startswith('DIRAWAT')])\n",
    "                           .rename(columns=str.lower)\n",
    "                           .rename(columns={'kasus': 'kasus_baru'})\n",
    "                  )\n",
    "cov_jabar_tidy['tanggal'] = pd.to_datetime(cov_jabar_tidy['tanggal']*1e6, unit='ns')\n",
    "\n",
    "cov_jabar_pekanan = (cov_jabar_tidy.set_index('tanggal')['kasus_baru']\n",
    "\t\t\t\t\t  .resample('W')\n",
    "\t\t\t\t\t  .sum()\n",
    "\t\t\t\t\t  .reset_index()\n",
    "\t\t\t\t\t  .rename(columns={'kasus_baru': 'jumlah'})\n",
    ")\n",
    "cov_jabar_pekanan['tahun'] = cov_jabar_pekanan['tanggal'].apply(lambda x: x.year)\n",
    "cov_jabar_pekanan['pekan_ke'] = cov_jabar_pekanan['tanggal'].apply(lambda x: x.weekofyear)\n",
    "cov_jabar_pekanan = cov_jabar_pekanan[['tahun', 'pekan_ke', 'jumlah']]\n",
    "\n",
    "print('Info cov_jabar_pekanan:')\n",
    "print(cov_jabar_pekanan.info())\n",
    "print('\\nLima data teratas cov_jabar_pekanan:\\n', cov_jabar_pekanan.head())\n"
   ]
  },
  {
   "cell_type": "code",
   "execution_count": null,
   "metadata": {},
   "outputs": [],
   "source": []
  }
 ],
 "metadata": {
  "kernelspec": {
   "display_name": "Python 3",
   "language": "python",
   "name": "python3"
  },
  "language_info": {
   "codemirror_mode": {
    "name": "ipython",
    "version": 3
   },
   "file_extension": ".py",
   "mimetype": "text/x-python",
   "name": "python",
   "nbconvert_exporter": "python",
   "pygments_lexer": "ipython3",
   "version": "3.8.5"
  }
 },
 "nbformat": 4,
 "nbformat_minor": 4
}
